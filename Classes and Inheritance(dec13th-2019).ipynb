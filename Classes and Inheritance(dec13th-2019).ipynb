{
 "cells": [
  {
   "cell_type": "markdown",
   "metadata": {},
   "source": [
    "real time scenarios---->\n",
    "class1-->\n",
    "          mention student details-->name,rooolno,branch\n",
    "          method-->print student details\n",
    "class2-->\n",
    "          mention student roll no,total fee, paid\n",
    "          method-->print the due amount\n",
    "         "
   ]
  },
  {
   "cell_type": "code",
   "execution_count": 1,
   "metadata": {},
   "outputs": [
    {
     "name": "stdout",
     "output_type": "stream",
     "text": [
      "hello\n"
     ]
    }
   ],
   "source": [
    "class employee:\n",
    "    def print(self):\n",
    "        print(\"hello\")\n",
    "e=employee()\n",
    "e.print()"
   ]
  },
  {
   "cell_type": "code",
   "execution_count": 19,
   "metadata": {},
   "outputs": [
    {
     "name": "stdout",
     "output_type": "stream",
     "text": [
      "the result is 31.400000000000002\n",
      "perimeter is: 125.60000000000001\n",
      "the result is 37.68\n",
      "perimeter is: 150.72\n",
      "the result is 69.08\n",
      "perimeter is: 276.32\n",
      "3\n",
      "the no of objects are: 3\n"
     ]
    }
   ],
   "source": [
    "class circle:\n",
    "    counter=0\n",
    "    def __init__(self,r):\n",
    "        self.r=r\n",
    "        circle.counter+=1\n",
    "    def area(self):\n",
    "        print(\"the result is\",3.14*self.r)\n",
    "    def perimeter(self):\n",
    "        print(\"perimeter is:\",4*3.14*self.r)\n",
    "    def display():\n",
    "        print(circle.counter)\n",
    "        \n",
    "        \n",
    "c=circle(10)\n",
    "c.area()\n",
    "c.perimeter()\n",
    "c1=circle(12)\n",
    "c1.area()\n",
    "c1.perimeter()\n",
    "c2=circle(22)\n",
    "c2.area()\n",
    "c2.perimeter()\n",
    "circle.display()\n",
    "print(\"the no of objects are:\",circle.counter)"
   ]
  },
  {
   "cell_type": "markdown",
   "metadata": {},
   "source": [
    "# Inheritance\n",
    "\n",
    "#deriving parent class from student class/////\n",
    "\n",
    "#creating a new class from derived class\n",
    "#types of inheritance\n",
    "1.single\n",
    "2.multiple\n",
    "3.multi level\n",
    "4.hierarchical \n",
    "5.hybrid"
   ]
  },
  {
   "cell_type": "code",
   "execution_count": 24,
   "metadata": {},
   "outputs": [
    {
     "name": "stdout",
     "output_type": "stream",
     "text": [
      "this is my first method\n",
      "this is my second method\n"
     ]
    }
   ],
   "source": [
    "class hari:\n",
    "    def add(self):\n",
    "        print(\"this is my first method\")\n",
    "class Krishna(hari):\n",
    "    def sum(self):\n",
    "        print(\"this is my second method\")\n",
    "        \n",
    "h=hari()\n",
    "k=Krishna()\n",
    "k.add()\n",
    "k.sum()"
   ]
  },
  {
   "cell_type": "code",
   "execution_count": 28,
   "metadata": {},
   "outputs": [
    {
     "name": "stdout",
     "output_type": "stream",
     "text": [
      "this is my second method\n",
      "this is my first sub method\n"
     ]
    }
   ],
   "source": [
    "class hari:\n",
    "    def add(self):\n",
    "        print(\"this is my first method\")\n",
    "    def add(self):\n",
    "        print(\"this is my first sub method\")\n",
    "class krishna:\n",
    "    def sum(self):\n",
    "        print(\"this is my second method\")\n",
    "class hardhin(hari,krishna):\n",
    "    pass\n",
    "        \n",
    "        \n",
    "h=hardhin()\n",
    "h.sum()\n",
    "h.add()"
   ]
  },
  {
   "cell_type": "code",
   "execution_count": 37,
   "metadata": {},
   "outputs": [
    {
     "name": "stdout",
     "output_type": "stream",
     "text": [
      "this is class A method\n",
      "this is class B method\n",
      "this is class C method\n"
     ]
    }
   ],
   "source": [
    "#multi level inheritance\n",
    "class A:\n",
    "    def add(self):\n",
    "        print(\"this is class A method\")\n",
    "class B(A):\n",
    "    def sub(self):\n",
    "        print(\"this is class B method\")\n",
    "class C(B):\n",
    "    def mul(self):\n",
    "        print(\"this is class C method\")\n",
    "c=C()\n",
    "c.add()\n",
    "c.sub()\n",
    "c.mul()"
   ]
  },
  {
   "cell_type": "code",
   "execution_count": 3,
   "metadata": {},
   "outputs": [
    {
     "name": "stdout",
     "output_type": "stream",
     "text": [
      "this is class A method\n",
      "this is class B method\n",
      "this is class C method\n",
      "this is class A method\n",
      "this is class A method\n"
     ]
    }
   ],
   "source": [
    "#hirearchial Inheritance\n",
    "#if one class is holding multiple methods\n",
    "class A:\n",
    "    def add(self):\n",
    "        print(\"this is class A method\")\n",
    "class B(A):\n",
    "    def sub(self):\n",
    "        print(\"this is class B method\")\n",
    "class C(A):\n",
    "    def mul(self):\n",
    "        print(\"this is class C method\")\n",
    "        \n",
    "b=B()\n",
    "b.add()\n",
    "b.sub()\n",
    "c=C()\n",
    "c.mul()\n",
    "c.add()\n",
    "a=A()\n",
    "a.add()"
   ]
  },
  {
   "cell_type": "code",
   "execution_count": 9,
   "metadata": {},
   "outputs": [
    {
     "ename": "TypeError",
     "evalue": "Cannot create a consistent method resolution\norder (MRO) for bases A, B",
     "output_type": "error",
     "traceback": [
      "\u001b[1;31m---------------------------------------------------------------------------\u001b[0m",
      "\u001b[1;31mTypeError\u001b[0m                                 Traceback (most recent call last)",
      "\u001b[1;32m<ipython-input-9-5d58c40b9744>\u001b[0m in \u001b[0;36m<module>\u001b[1;34m\u001b[0m\n\u001b[0;32m      7\u001b[0m     \u001b[1;32mdef\u001b[0m \u001b[0msub\u001b[0m\u001b[1;33m(\u001b[0m\u001b[0mself\u001b[0m\u001b[1;33m)\u001b[0m\u001b[1;33m:\u001b[0m\u001b[1;33m\u001b[0m\u001b[1;33m\u001b[0m\u001b[0m\n\u001b[0;32m      8\u001b[0m         \u001b[0mprint\u001b[0m\u001b[1;33m(\u001b[0m\u001b[1;34m\"this is class B method\"\u001b[0m\u001b[1;33m)\u001b[0m\u001b[1;33m\u001b[0m\u001b[1;33m\u001b[0m\u001b[0m\n\u001b[1;32m----> 9\u001b[1;33m \u001b[1;32mclass\u001b[0m \u001b[0mC\u001b[0m\u001b[1;33m(\u001b[0m\u001b[0mA\u001b[0m\u001b[1;33m,\u001b[0m\u001b[0mB\u001b[0m\u001b[1;33m)\u001b[0m\u001b[1;33m:\u001b[0m\u001b[1;33m\u001b[0m\u001b[1;33m\u001b[0m\u001b[0m\n\u001b[0m\u001b[0;32m     10\u001b[0m     \u001b[1;32mdef\u001b[0m \u001b[0mmul\u001b[0m\u001b[1;33m(\u001b[0m\u001b[0mself\u001b[0m\u001b[1;33m)\u001b[0m\u001b[1;33m:\u001b[0m\u001b[1;33m\u001b[0m\u001b[1;33m\u001b[0m\u001b[0m\n\u001b[0;32m     11\u001b[0m         \u001b[0mprint\u001b[0m\u001b[1;33m(\u001b[0m\u001b[1;34m\"this is class C method\"\u001b[0m\u001b[1;33m)\u001b[0m\u001b[1;33m\u001b[0m\u001b[1;33m\u001b[0m\u001b[0m\n",
      "\u001b[1;31mTypeError\u001b[0m: Cannot create a consistent method resolution\norder (MRO) for bases A, B"
     ]
    }
   ],
   "source": [
    "#Hybrid Inheritance\n",
    "\n",
    "class A:\n",
    "    def add(self):\n",
    "        print(\"this is class A method\")\n",
    "class B(A):\n",
    "    def sub(self):\n",
    "        print(\"this is class B method\")\n",
    "class C(A):\n",
    "    def mul(self):\n",
    "        print(\"this is class C method\")\n",
    "class D(A,C):\n",
    "    def div(self):\n",
    "        print(\"this is class D method\")\n",
    "        \n",
    "c=C()\n",
    "c.add()"
   ]
  },
  {
   "cell_type": "code",
   "execution_count": 10,
   "metadata": {},
   "outputs": [
    {
     "ename": "SyntaxError",
     "evalue": "invalid syntax (<ipython-input-10-c0199266ae4a>, line 1)",
     "output_type": "error",
     "traceback": [
      "\u001b[1;36m  File \u001b[1;32m\"<ipython-input-10-c0199266ae4a>\"\u001b[1;36m, line \u001b[1;32m1\u001b[0m\n\u001b[1;33m    real time scenarios---->\u001b[0m\n\u001b[1;37m            ^\u001b[0m\n\u001b[1;31mSyntaxError\u001b[0m\u001b[1;31m:\u001b[0m invalid syntax\n"
     ]
    }
   ],
   "source": [
    "real time scenarios---->\n",
    "class1-->\n",
    "          mention student details-->name,rooolno,branch\n",
    "          method-->print student details\n",
    "class2-->\n",
    "          mention student roll no,total fee, paid\n",
    "          method-->print the due amount\n",
    "         "
   ]
  },
  {
   "cell_type": "code",
   "execution_count": 42,
   "metadata": {},
   "outputs": [
    {
     "name": "stdout",
     "output_type": "stream",
     "text": [
      "student name is: hari krishna\n",
      "student rollno is: 1210415724\n",
      "student branch is: Electronics And Communication Engineering\n",
      "\n",
      "student name is: Sai Teja\n",
      "student rollno is: 1210415725\n",
      "student branch is: computer Science Engineering \n",
      "\n",
      "student name is: Rohan\n",
      "student rollno is: 1210415726\n",
      "student branch is: Civil Engineering \n",
      "\n",
      "student name is: Suraj\n",
      "student rollno is: 1210415728\n",
      "student branch is: Electrical And Electronics Engineering\n",
      "\n",
      "student name is: Hardhin\n",
      "student rollno is: 1210415729\n",
      "student branch is: Information technology \n",
      "\n",
      "student name is: Pooja\n",
      "student rollno is: 1210415730\n",
      "student branch is: Mechanical Engineering \n"
     ]
    }
   ],
   "source": [
    "class student:\n",
    "    def __init__(self,n,r,b):\n",
    "        self.n=n\n",
    "        self.r=r\n",
    "        self.b=b\n",
    "    def display(self):\n",
    "        print(\"student name is:\",self.n)\n",
    "        print(\"student rollno is:\",self.r)\n",
    "        print(\"student branch is:\",self.b)\n",
    "    \n",
    "        \n",
    "s=student(\"hari krishna\",1210415724,\"Electronics And Communication Engineering\\n\")\n",
    "s1=student(\"Sai Teja\",1210415725,\"computer Science Engineering \\n\")\n",
    "s2=student(\"Rohan\",1210415726,\"Civil Engineering \\n\")\n",
    "s3=student(\"Suraj\",1210415728,\"Electrical And Electronics Engineering\\n\")\n",
    "s4=student(\"Hardhin\",1210415729,\"Information technology \\n\")\n",
    "s5=student(\"Pooja\",1210415730,\"Mechanical Engineering \")\n",
    "\n",
    "s.display()\n",
    "s1.display()\n",
    "s2.display()\n",
    "s3.display()\n",
    "s4.display()\n",
    "s5.display()\n",
    "    "
   ]
  },
  {
   "cell_type": "code",
   "execution_count": null,
   "metadata": {},
   "outputs": [],
   "source": []
  }
 ],
 "metadata": {
  "kernelspec": {
   "display_name": "Python 3",
   "language": "python",
   "name": "python3"
  },
  "language_info": {
   "codemirror_mode": {
    "name": "ipython",
    "version": 3
   },
   "file_extension": ".py",
   "mimetype": "text/x-python",
   "name": "python",
   "nbconvert_exporter": "python",
   "pygments_lexer": "ipython3",
   "version": "3.7.4"
  }
 },
 "nbformat": 4,
 "nbformat_minor": 2
}
