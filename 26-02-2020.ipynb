{
 "cells": [
  {
   "cell_type": "markdown",
   "metadata": {},
   "source": [
    "# concepts\n",
    "- Basics\n",
    "- Data Types and conversions\n",
    "- Control Statements\n",
    "    - conditional statements\n",
    "    - looping statements\n",
    "- External packages\n",
    "    - Math\n",
    "- Regular Expressions\n",
    "- File handling\n",
    "    - reading a file\n",
    "    - writing data into the file\n",
    "    - Perform the operations on the file\n",
    "- OOPS\n",
    "    - Class\n",
    "    - Objects\n",
    "    - Methods\n",
    "    - Constructors\n",
    "    - Inheritance\n",
    "    - Abstraction\n",
    "    - Exception Handling\n",
    "- Lambda,List comprehensions\n",
    "    "
   ]
  },
  {
   "cell_type": "markdown",
   "metadata": {},
   "source": [
    "# Functional Programming\n",
    "- reduce the code complexity\n",
    "- Divides the lengthy program into Sub blocks, so that debugging is easy and it is readable\n",
    "- Resuable Of code-we can call the funtion when ever we want\n",
    "    - Ex:Log in page"
   ]
  },
  {
   "cell_type": "code",
   "execution_count": null,
   "metadata": {},
   "outputs": [],
   "source": [
    "def Function_name(paramenters):\n",
    "    statements\n",
    "    return type\n",
    "Function_name()#calling the function"
   ]
  },
  {
   "cell_type": "markdown",
   "metadata": {},
   "source": [
    "- even if we dont pass parameters Function can directly print the statememts"
   ]
  },
  {
   "cell_type": "code",
   "execution_count": null,
   "metadata": {},
   "outputs": [],
   "source": [
    "def is_test():\n",
    "    print(\"this is an example in function using return statement\")\n",
    "    return\n",
    "is_test()"
   ]
  },
  {
   "cell_type": "code",
   "execution_count": 11,
   "metadata": {},
   "outputs": [
    {
     "data": {
      "text/plain": [
       "'Funtional programming'"
      ]
     },
     "execution_count": 11,
     "metadata": {},
     "output_type": "execute_result"
    }
   ],
   "source": [
    "def func():\n",
    "    return \"Funtional programming\"\n",
    "func()"
   ]
  },
  {
   "cell_type": "code",
   "execution_count": 17,
   "metadata": {},
   "outputs": [
    {
     "name": "stdout",
     "output_type": "stream",
     "text": [
      "123\n",
      "<class 'int'>\n"
     ]
    }
   ],
   "source": [
    "def test(a):\n",
    "    return a\n",
    "    return type(a)\n",
    "a=123\n",
    "print(test(a))\n",
    "print(type(a))"
   ]
  },
  {
   "cell_type": "markdown",
   "metadata": {},
   "source": [
    "- External packages--->import math,pandas\n",
    "# regular Expressions"
   ]
  },
  {
   "cell_type": "markdown",
   "metadata": {},
   "source": [
    "## coding standards\n",
    "- variable name: Use a lowercase single letter, word, or words. Separate words with underscores to        improve readability.\n",
    "    - Ex:x, var, my_variable\n",
    "    `\n",
    "- Function name: Use a lowercase word or words. Separate words by underscores to improve readability.\t- Ex:function, my_function\n",
    "\n",
    "- Constructor name:__init__() method is called the constructor and is always called when an object is created.\n",
    "    - Ex: def __init__(self):\n",
    "\n",
    "- Class name: Start each word with a capital letter. Do not separate words with underscores. This style is called camel case.\n",
    "    - Ex:Class() , Myclass()\n",
    "\n",
    "- import : import package_name\n",
    "- import : from package-name import package1,package2...packageN\n"
   ]
  },
  {
   "cell_type": "markdown",
   "metadata": {},
   "source": [
    "# Regular Expressions\n",
    "- import re #when we work with regular expressions we need to import \"re\" package\n",
    "- checking or validating the phone number\n",
    "- validate email-id\n",
    "- checking special characters\n",
    "- checking for lower case and upper case\n",
    "\n",
    "## \"regexpal\" is the website for checking ourregular expressions"
   ]
  },
  {
   "cell_type": "code",
   "execution_count": 51,
   "metadata": {},
   "outputs": [
    {
     "name": "stdout",
     "output_type": "stream",
     "text": [
      "False\n",
      "True\n"
     ]
    }
   ],
   "source": [
    "import re\n",
    "def match(s):\n",
    "    pattern='^[0-9]{3}$'\n",
    "    s=str(s)\n",
    "    if re.match(pattern,s):\n",
    "        return True\n",
    "    return False\n",
    "print(match(12))\n",
    "print(match(222))\n"
   ]
  },
  {
   "cell_type": "code",
   "execution_count": 66,
   "metadata": {},
   "outputs": [
    {
     "name": "stdout",
     "output_type": "stream",
     "text": [
      "True\n",
      "False\n"
     ]
    }
   ],
   "source": [
    "import re\n",
    "def username(s):\n",
    "    pattern='^[A-Z][a-z A-Z]{5,11}$'\n",
    "    if re.match(pattern,s):\n",
    "        return True\n",
    "    return False\n",
    "print(username('Harikrish'))\n",
    "\n",
    "print(username('Dhyanahithaas'))"
   ]
  },
  {
   "cell_type": "code",
   "execution_count": 78,
   "metadata": {},
   "outputs": [
    {
     "name": "stdout",
     "output_type": "stream",
     "text": [
      "False\n",
      "True\n"
     ]
    }
   ],
   "source": [
    "#Validate-DHS00120\n",
    "#DHS00120-DHS00999(range)\n",
    "import re\n",
    "def validate(n):\n",
    "    pattern='^[D][H][S][0]{2}[1-9][2-9][0-9]$'\n",
    "    if re.match(pattern,n):\n",
    "        return True\n",
    "    return False\n",
    "print(validate('DHS00110'))\n",
    "\n",
    "print(validate('DHS00939'))"
   ]
  },
  {
   "cell_type": "code",
   "execution_count": 81,
   "metadata": {},
   "outputs": [
    {
     "name": "stdout",
     "output_type": "stream",
     "text": [
      "True\n",
      "True\n",
      "True\n"
     ]
    }
   ],
   "source": [
    "#Indian Mobile number\n",
    "import re\n",
    "def Mobile(n):\n",
    "    pattern='^[+][9][1][-][6-9]{1}[0-9]{9}|[6-9]{1}[0-9]{9}|[0][6-9]{1}[0-9]{9}$'\n",
    "    n=str(n)\n",
    "    if re.match(pattern,n):\n",
    "        return True\n",
    "    return False\n",
    "print(Mobile('6988776644'))\n",
    "\n",
    "print(Mobile('09988776644'))\n",
    "print(Mobile('+91-9988776644'))\n"
   ]
  },
  {
   "cell_type": "code",
   "execution_count": null,
   "metadata": {},
   "outputs": [],
   "source": [
    "# user name validate\n",
    "#Should need to contain one Upper\n",
    "#case, 6lowercase m,1 Digit"
   ]
  },
  {
   "cell_type": "code",
   "execution_count": 3,
   "metadata": {},
   "outputs": [
    {
     "name": "stdout",
     "output_type": "stream",
     "text": [
      "True\n"
     ]
    }
   ],
   "source": [
    "import re\n",
    "def username(n):\n",
    "    pattern='^^[A-Z][a-z]{6}[0-9]{1}$$'\n",
    "    if re.match(pattern,n):\n",
    "        return True\n",
    "    return False\n",
    "\n",
    "print(username('Saiteja1'))\n",
    "#print(username('09988776644'))\n",
    "#print(username('+91-9988776644'))"
   ]
  },
  {
   "cell_type": "code",
   "execution_count": null,
   "metadata": {},
   "outputs": [],
   "source": []
  },
  {
   "cell_type": "code",
   "execution_count": null,
   "metadata": {},
   "outputs": [],
   "source": []
  },
  {
   "cell_type": "code",
   "execution_count": 29,
   "metadata": {
    "slideshow": {
     "slide_type": "notes"
    }
   },
   "outputs": [
    {
     "name": "stdout",
     "output_type": "stream",
     "text": [
      "hari krishna\n",
      "8184945656\n"
     ]
    }
   ],
   "source": [
    "class sai:\n",
    "    def __init__(self):\n",
    "        self.name=\"hari krishna\"\n",
    "        self.__bankaccount=\"8184945656\"\n",
    "    def display(self):\n",
    "        print(\"my name is \",self.name)\n",
    "        print(\"account no is \",self.bankaccount)\n",
    "s=sai()\n",
    "\n",
    "#s.display()\n",
    "print(s.name)\n",
    "print(s._sai__bankaccount)"
   ]
  },
  {
   "cell_type": "code",
   "execution_count": null,
   "metadata": {
    "slideshow": {
     "slide_type": "subslide"
    }
   },
   "outputs": [],
   "source": []
  },
  {
   "cell_type": "code",
   "execution_count": null,
   "metadata": {
    "slideshow": {
     "slide_type": "skip"
    }
   },
   "outputs": [],
   "source": []
  }
 ],
 "metadata": {
  "celltoolbar": "Slideshow",
  "kernelspec": {
   "display_name": "Python 3",
   "language": "python",
   "name": "python3"
  },
  "language_info": {
   "codemirror_mode": {
    "name": "ipython",
    "version": 3
   },
   "file_extension": ".py",
   "mimetype": "text/x-python",
   "name": "python",
   "nbconvert_exporter": "python",
   "pygments_lexer": "ipython3",
   "version": "3.7.4"
  }
 },
 "nbformat": 4,
 "nbformat_minor": 2
}
