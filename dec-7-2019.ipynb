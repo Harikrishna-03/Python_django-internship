{
 "cells": [
  {
   "cell_type": "code",
   "execution_count": 4,
   "metadata": {},
   "outputs": [
    {
     "name": "stdout",
     "output_type": "stream",
     "text": [
      "     0\n",
      "0    1\n",
      "1    2\n",
      "2    3\n",
      "3    4\n",
      "4    5\n",
      "5    6\n",
      "6    7\n",
      "7    8\n",
      "8    9\n",
      "9   10\n",
      "10  11\n",
      "11  12\n",
      "12  13\n",
      "13  14\n"
     ]
    }
   ],
   "source": [
    "import pandas as pd\n",
    "list=[1,2,3,4,5,6,7,8,9,10,11,12,13,14]\n",
    "dataframe=pd.DataFrame(list)\n",
    "print(dataframe)"
   ]
  },
  {
   "cell_type": "code",
   "execution_count": 3,
   "metadata": {},
   "outputs": [
    {
     "data": {
      "text/html": [
       "<div>\n",
       "<style scoped>\n",
       "    .dataframe tbody tr th:only-of-type {\n",
       "        vertical-align: middle;\n",
       "    }\n",
       "\n",
       "    .dataframe tbody tr th {\n",
       "        vertical-align: top;\n",
       "    }\n",
       "\n",
       "    .dataframe thead th {\n",
       "        text-align: right;\n",
       "    }\n",
       "</style>\n",
       "<table border=\"1\" class=\"dataframe\">\n",
       "  <thead>\n",
       "    <tr style=\"text-align: right;\">\n",
       "      <th></th>\n",
       "      <th>name</th>\n",
       "      <th>roll_no</th>\n",
       "    </tr>\n",
       "  </thead>\n",
       "  <tbody>\n",
       "    <tr>\n",
       "      <td>0</td>\n",
       "      <td>hari krishna</td>\n",
       "      <td>24</td>\n",
       "    </tr>\n",
       "    <tr>\n",
       "      <td>1</td>\n",
       "      <td>rohan</td>\n",
       "      <td>25</td>\n",
       "    </tr>\n",
       "    <tr>\n",
       "      <td>2</td>\n",
       "      <td>pranav</td>\n",
       "      <td>65</td>\n",
       "    </tr>\n",
       "    <tr>\n",
       "      <td>3</td>\n",
       "      <td>suraj</td>\n",
       "      <td>61</td>\n",
       "    </tr>\n",
       "  </tbody>\n",
       "</table>\n",
       "</div>"
      ],
      "text/plain": [
       "           name  roll_no\n",
       "0  hari krishna       24\n",
       "1         rohan       25\n",
       "2        pranav       65\n",
       "3         suraj       61"
      ]
     },
     "execution_count": 3,
     "metadata": {},
     "output_type": "execute_result"
    }
   ],
   "source": [
    "import pandas as pd\n",
    "data1={'name':['hari krishna','rohan','pranav','suraj'],'roll_no':[24,25,65,61]}\n",
    "result=pd.DataFrame(data1)\n",
    "result"
   ]
  },
  {
   "cell_type": "code",
   "execution_count": 8,
   "metadata": {},
   "outputs": [
    {
     "data": {
      "text/plain": [
       "Text(0.5, 1.0, 'graph')"
      ]
     },
     "execution_count": 8,
     "metadata": {},
     "output_type": "execute_result"
    },
    {
     "data": {
      "image/png": "[encoded data removed]",
      "text/plain": [
       "<Figure size 432x288 with 1 Axes>"
      ]
     },
     "metadata": {
      "needs_background": "light"
     },
     "output_type": "display_data"
    }
   ],
   "source": [
    "import numpy as np\n",
    "from  matplotlib import pyplot as plt\n",
    "x=np.arange(0,10,1)\n",
    "y=np.arange(0,10,1)\n",
    "plt.plot(x,y)\n",
    "\n",
    "plt.xlabel(\"x-axis\")\n",
    "plt.ylabel(\"y-axis\")\n",
    "plt.title(\"graph\")"
   ]
  },
  {
   "cell_type": "code",
   "execution_count": 12,
   "metadata": {},
   "outputs": [
    {
     "name": "stdout",
     "output_type": "stream",
     "text": [
      "enter a number12\n",
      "12 8 4 0 4 8 12 "
     ]
    }
   ],
   "source": [
    "n=int(input(\"enter a number\"))\n",
    "def pattern(n):\n",
    "    if (n==0 or n<0):\n",
    "        print(n,end=\" \")\n",
    "        return n\n",
    "    print(n,end=\" \")\n",
    "\n",
    "    pattern(n-4)\n",
    "    print(n,end=\" \")\n",
    "pattern(n)"
   ]
  },
  {
   "cell_type": "code",
   "execution_count": 42,
   "metadata": {},
   "outputs": [
    {
     "data": {
      "text/plain": [
       "<BarContainer object of 3 artists>"
      ]
     },
     "execution_count": 42,
     "metadata": {},
     "output_type": "execute_result"
    },
    {
     "data": {
      "image/png": "[encoded data removed]",
      "text/plain": [
       "<Figure size 432x288 with 1 Axes>"
      ]
     },
     "metadata": {
      "needs_background": "light"
     },
     "output_type": "display_data"
    }
   ],
   "source": [
    "from matplotlib import pyplot as plt\n",
    "\n",
    "data={\"banana\":50,\"apple\":40,\"orange\":20}\n",
    "\n",
    "names=data.keys()\n",
    "values=data.values()\n",
    "plt.bar(names,values)"
   ]
  },
  {
   "cell_type": "code",
   "execution_count": 46,
   "metadata": {},
   "outputs": [
    {
     "name": "stdout",
     "output_type": "stream",
     "text": [
      "11\n"
     ]
    }
   ],
   "source": [
    "a=\"opthamology\"\n",
    "count=0\n",
    "for i in a:\n",
    "    count=count+1\n",
    "print(count)"
   ]
  },
  {
   "cell_type": "code",
   "execution_count": 47,
   "metadata": {},
   "outputs": [],
   "source": [
    "import numpy as np\n",
    "a=np.array([1,2,3,4,5,6,7,8,9])\n",
    "b=np.array([12,23,3,4,22,32,13,9])\n",
    "\n"
   ]
  },
  {
   "cell_type": "code",
   "execution_count": 48,
   "metadata": {},
   "outputs": [
    {
     "data": {
      "text/plain": [
       "array([3, 4, 9])"
      ]
     },
     "execution_count": 48,
     "metadata": {},
     "output_type": "execute_result"
    }
   ],
   "source": [
    "np.intersect1d(a,b)"
   ]
  },
  {
   "cell_type": "markdown",
   "metadata": {},
   "source": [
    "# dec-6th exam solutions"
   ]
  },
  {
   "cell_type": "code",
   "execution_count": 49,
   "metadata": {},
   "outputs": [
    {
     "data": {
      "text/plain": [
       "'Pediatrics'"
      ]
     },
     "execution_count": 49,
     "metadata": {},
     "output_type": "execute_result"
    }
   ],
   "source": [
    "def mvs(list,dict):\n",
    "\n",
    "   cP,cO,cE=0,0,0\n",
    "   for i in list:\n",
    "       if 'P'==i:\n",
    "           cP+=1\n",
    "       elif 'E'==i:\n",
    "           cE+=1\n",
    "       elif 'O'==i:\n",
    "           cO+=1\n",
    "     \n",
    "           \n",
    "   if cP>cO and cP>cE:\n",
    "       return dict['P']\n",
    "   elif(cO>cE):\n",
    "       return dict['O']\n",
    "   else:\n",
    "       return dict['E']\n",
    "\n",
    "\n",
    "list=[301,'P',302, 'P' ,305, 'P' ,401, 'E' ,656, 'E']\n",
    "dict={\"P\":\"Pediatrics\",\"O\":\"Orthopedics\",\"E\":\"ENT\"}\n",
    "mvs(list,dict)"
   ]
  },
  {
   "cell_type": "code",
   "execution_count": 1,
   "metadata": {},
   "outputs": [
    {
     "data": {
      "text/plain": [
       "Counter({'A': 4, 'B': 3, 'C': 5})"
      ]
     },
     "execution_count": 1,
     "metadata": {},
     "output_type": "execute_result"
    }
   ],
   "source": [
    "from collections import Counter\n",
    "str='AAAABBBCCCCC'\n",
    "a=list(str)\n",
    "Counter(a)"
   ]
  },
  {
   "cell_type": "code",
   "execution_count": 53,
   "metadata": {},
   "outputs": [
    {
     "name": "stdout",
     "output_type": "stream",
     "text": [
      "enter no.of legs:4\n",
      "enter no.of heads:4\n",
      "6.0 -2.0\n"
     ]
    }
   ],
   "source": [
    "def puzzle(legs,heads):\n",
    "   if legs%2!=0 or heads==0 or heads>legs:\n",
    "       print('No solution')\n",
    "   else:\n",
    "       r=((legs+(-2*heads))/2)\n",
    "       c=(heads-r)\n",
    "       print(c,r)\n",
    "legs=int(input(\"enter no.of legs:\"))\n",
    "heads=int(input(\"enter no.of heads:\"))\n",
    "puzzle(legs,heads)"
   ]
  },
  {
   "cell_type": "code",
   "execution_count": 2,
   "metadata": {},
   "outputs": [
    {
     "name": "stdout",
     "output_type": "stream",
     "text": [
      "4 - 11 - 1997\n"
     ]
    }
   ],
   "source": [
    "def generate_next_date(day,month,year):\n",
    "    if((year%400==0 or year%4==0) and month==2):\n",
    "        next_day=day+1\n",
    "        next_month=month\n",
    "        next_year=year\n",
    "    elif(month==2 and day==28):\n",
    "        next_day=1\n",
    "        next_month=month+1\n",
    "        next_year=year\n",
    "    elif(month==12 and day==31):\n",
    "        next_day=1\n",
    "        next_month=1\n",
    "        next_year=year+1\n",
    "    elif(day==31 ):\n",
    "        next_day=1\n",
    "        next_month=month+1\n",
    "        next_year=year\n",
    "    elif((day==30) and (month==4 or month==6 or month==9 or month==11)):\n",
    "        next_day=1\n",
    "        next_month=month+1\n",
    "        next_year=year\n",
    "    else:\n",
    "        next_day=day+1\n",
    "        next_month=month\n",
    "        next_year=year\n",
    "\n",
    "\n",
    "\n",
    "\n",
    "    print(next_day,\"-\",next_month,\"-\",next_year)\n",
    "\n",
    "\n",
    "generate_next_date(3,11,1997)"
   ]
  },
  {
   "cell_type": "code",
   "execution_count": 3,
   "metadata": {},
   "outputs": [
    {
     "data": {
      "text/plain": [
       "'parzwlc'"
      ]
     },
     "execution_count": 3,
     "metadata": {},
     "output_type": "execute_result"
    }
   ],
   "source": [
    "def mirror(str,n):\n",
    "    rev=\"zyxwvutsrqponmlkjihgfedcba\"\n",
    "    l = len(str)\n",
    "    value = \"\"\n",
    "    for i in range(0, n):\n",
    "        value = value + str[i]        \n",
    "    for i in range(n, l):\n",
    "        value = (value + rev[ord(str[i]) - ord('a')])\n",
    "         \n",
    "    return value\n",
    "\n",
    "mirror(\"paradox\",3)\n"
   ]
  },
  {
   "cell_type": "code",
   "execution_count": null,
   "metadata": {},
   "outputs": [],
   "source": []
  }
 ],
 "metadata": {
  "kernelspec": {
   "display_name": "Python 3",
   "language": "python",
   "name": "python3"
  },
  "language_info": {
   "codemirror_mode": {
    "name": "ipython",
    "version": 3
   },
   "file_extension": ".py",
   "mimetype": "text/x-python",
   "name": "python",
   "nbconvert_exporter": "python",
   "pygments_lexer": "ipython3",
   "version": "3.7.4"
  }
 },
 "nbformat": 4,
 "nbformat_minor": 2
}
