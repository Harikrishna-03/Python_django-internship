{
 "cells": [
  {
   "cell_type": "markdown",
   "metadata": {},
   "source": [
    "# Given a string and number N, we need to mirror the characters from N-th position up to lenth of the string in the alphabetical order. In the mirror operation we change 'a' to 'z', 'b' to 'y', and so on."
   ]
  },
  {
   "cell_type": "code",
   "execution_count": 38,
   "metadata": {},
   "outputs": [
    {
     "data": {
      "text/plain": [
       "'pneumomrz'"
      ]
     },
     "execution_count": 38,
     "metadata": {},
     "output_type": "execute_result"
    }
   ],
   "source": [
    "def mirror(str,n): \n",
    "    rev=\"zyxwvutsrqponmlkjihgfedcba\"\n",
    "    l = len(str) \n",
    "    value = \"\" \n",
    "    for i in range(0, n): \n",
    "        value = value + str[i]         \n",
    "    for i in range(n, l): \n",
    "        value = (value + rev[ord(str[i]) - ord('a')])\n",
    "          \n",
    "    return value\n",
    "\n",
    "mirror(\"pneumonia\",6)\n"
   ]
  },
  {
   "cell_type": "markdown",
   "metadata": {},
   "source": [
    "# write a python program to generate and display the next date of a given date"
   ]
  },
  {
   "cell_type": "code",
   "execution_count": 46,
   "metadata": {},
   "outputs": [
    {
     "name": "stdout",
     "output_type": "stream",
     "text": [
      "3 - 2 - 2015\n"
     ]
    }
   ],
   "source": [
    "d=int(input(\"enter the date\"))\n",
    "m=int(input(\"enter\"))"
   ]
  },
  {
   "cell_type": "code",
   "execution_count": null,
   "metadata": {},
   "outputs": [],
   "source": []
  }
 ],
 "metadata": {
  "kernelspec": {
   "display_name": "Python 3",
   "language": "python",
   "name": "python3"
  },
  "language_info": {
   "codemirror_mode": {
    "name": "ipython",
    "version": 3
   },
   "file_extension": ".py",
   "mimetype": "text/x-python",
   "name": "python",
   "nbconvert_exporter": "python",
   "pygments_lexer": "ipython3",
   "version": "3.7.4"
  }
 },
 "nbformat": 4,
 "nbformat_minor": 2
}
