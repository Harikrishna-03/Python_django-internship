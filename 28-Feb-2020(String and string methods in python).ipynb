{
 "cells": [
  {
   "cell_type": "markdown",
   "metadata": {},
   "source": [
    "# Strings and String methods in python\n",
    "- strings--->group of characters\n",
    "- Pyton----->Character and string\n",
    "- ord(char)-->Represents the output interms of Ascii Values\n",
    "- Char(ord(char))--->Represent the output in terms of character\n",
    "- Ascii Numbers---->\n",
    "                  - A-Z::::65-90\n",
    "                  - a-z:::97-122 \n",
    "                  - 0-9:::48-57"
   ]
  },
  {
   "cell_type": "code",
   "execution_count": 1,
   "metadata": {},
   "outputs": [
    {
     "name": "stdout",
     "output_type": "stream",
     "text": [
      "<class 'str'> <class 'str'>\n"
     ]
    }
   ],
   "source": [
    "s1='a'\n",
    "s2='HariKrishna'\n",
    "print(type(s1),type(s2))"
   ]
  },
  {
   "cell_type": "code",
   "execution_count": 2,
   "metadata": {},
   "outputs": [
    {
     "name": "stdout",
     "output_type": "stream",
     "text": [
      "awfbiuIBUFBIUB\n",
      "uppercase :8 lowercase :6\n"
     ]
    }
   ],
   "source": [
    "li=[]\n",
    "s1=input()\n",
    "uCnt=0\n",
    "lCnt=0\n",
    "for i in range(len(s1)):\n",
    "    if ord(s1[i])>=65 and ord(s1[i]) <=90:\n",
    "        uCnt+=1\n",
    "    elif ord(s1[i])>=97 and ord(s1[i])<=122:\n",
    "        lCnt+=1\n",
    "print('uppercase :{} lowercase :{}'.format(uCnt,lCnt))"
   ]
  },
  {
   "cell_type": "code",
   "execution_count": 3,
   "metadata": {},
   "outputs": [
    {
     "data": {
      "text/plain": [
       "False"
      ]
     },
     "execution_count": 3,
     "metadata": {},
     "output_type": "execute_result"
    }
   ],
   "source": [
    "a=\"Harikrishna\"\n",
    "a.isupper()"
   ]
  },
  {
   "cell_type": "code",
   "execution_count": 4,
   "metadata": {},
   "outputs": [
    {
     "name": "stdout",
     "output_type": "stream",
     "text": [
      "JFBNUB3F \n",
      "uppercase :7 lowercase :0\n"
     ]
    }
   ],
   "source": [
    "li=[]\n",
    "s1=input()\n",
    "uCnt=0\n",
    "lCnt=0\n",
    "for i in range(len(s1)):\n",
    "    if s1[i].isupper():#ord(s1[i])>=65 and ord(s1[i]) <=90:\n",
    "        uCnt+=1\n",
    "    elif s1[i].islower():#ord(s1[i])>=97 and ord(s1[i])<=122:\n",
    "        lCnt+=1\n",
    "print('uppercase :{} lowercase :{}'.format(uCnt,lCnt))"
   ]
  },
  {
   "cell_type": "code",
   "execution_count": 5,
   "metadata": {},
   "outputs": [
    {
     "name": "stdout",
     "output_type": "stream",
     "text": [
      "16\n"
     ]
    }
   ],
   "source": [
    "s=\"App1ca8ti8on9\"\n",
    "sum=0\n",
    "for i in range(len(s)):\n",
    "    if ord(s[i])>=50 and ord(s[i])<=56:\n",
    "        sum=sum+(ord(s[i])-48)\n",
    "print(sum)\n",
    "        "
   ]
  },
  {
   "cell_type": "code",
   "execution_count": 6,
   "metadata": {},
   "outputs": [
    {
     "name": "stdout",
     "output_type": "stream",
     "text": [
      "16\n"
     ]
    }
   ],
   "source": [
    "s=\"App1ca8ti8on9\"\n",
    "sum=0\n",
    "for i in range(len(s)):\n",
    "    if s[i].isdigit():#ord(s[i])>=48 and ord(s[i])<=57:\n",
    "        x=ord(s[i])-48\n",
    "        if x % 2 == 0:\n",
    "            sum+= x\n",
    "print('{}'.format(sum))"
   ]
  },
  {
   "cell_type": "code",
   "execution_count": 7,
   "metadata": {},
   "outputs": [],
   "source": [
    "# Mobile123Needs21works45Land87user342\n",
    "# 153 465"
   ]
  },
  {
   "cell_type": "code",
   "execution_count": 8,
   "metadata": {},
   "outputs": [
    {
     "ename": "SyntaxError",
     "evalue": "invalid syntax (<ipython-input-8-c63defa36a67>, line 1)",
     "output_type": "error",
     "traceback": [
      "\u001b[1;36m  File \u001b[1;32m\"<ipython-input-8-c63defa36a67>\"\u001b[1;36m, line \u001b[1;32m1\u001b[0m\n\u001b[1;33m    b re\u001b[0m\n\u001b[1;37m       ^\u001b[0m\n\u001b[1;31mSyntaxError\u001b[0m\u001b[1;31m:\u001b[0m invalid syntax\n"
     ]
    }
   ],
   "source": [
    "b re\n",
    "s=input()\n",
    "a=re.split('(\\d+)',s)\n",
    "string=a[1::2]\n",
    "c=0\n",
    "finalstring=0\n",
    "for i in string:\n",
    "    if len(i)==2:\n",
    "        c=c+int(i)\n",
    "    elif len(i)==3:\n",
    "        finalstring=finalstring+int(i)\n",
    "print(finalstring)\n",
    "print(c)"
   ]
  },
  {
   "cell_type": "code",
   "execution_count": null,
   "metadata": {},
   "outputs": [],
   "source": []
  },
  {
   "cell_type": "code",
   "execution_count": null,
   "metadata": {},
   "outputs": [],
   "source": [
    "def str(string):\n",
    "   pc = string[0]\n",
    "   groups = []\n",
    "   c=0\n",
    "   c1=0\n",
    "   newword = string[0]\n",
    "   for x, i in enumerate(string[1:]):\n",
    "       if i.isalpha() and pc.isalpha():\n",
    "           newword += i\n",
    "       elif i.isnumeric() and pc.isnumeric():\n",
    "           newword += i\n",
    "       else:\n",
    "           groups.append(newword)\n",
    "           newword = i\n",
    "\n",
    "       pc = i\n",
    "\n",
    "       if x == len(string) - 2:\n",
    "           groups.append(newword)\n",
    "           newword = ''\n",
    "   a=groups[1::2]\n",
    "   print(a)\n",
    "   for i in a:\n",
    "       if len(i)==3:\n",
    "           c=c+int(i)\n",
    "       else:\n",
    "           c1=c1+int(i)\n",
    "   print('{},{}'.format(c,c1))  \n",
    "print(str('mobile123Needs21works45land87user342'))"
   ]
  },
  {
   "cell_type": "code",
   "execution_count": null,
   "metadata": {},
   "outputs": [],
   "source": [
    "final_x=0\n",
    "for i in range(len(s1)):\n",
    "    num=0\n",
    "    while True:\n",
    "        if s1[i].isdigit():\n",
    "            k=ord(s1[i])-48\n",
    "            num=(num*10)+k\n",
    "            i+=1\n",
    "        else:\n",
    "            break\n",
    "        if check(num)==2:\n",
    "            final_sum+=num\n",
    "        elif check(num)==3:\n",
    "            final_x+=num\n",
    "print('{0} {1}'.format(final_sum,final_x))"
   ]
  },
  {
   "cell_type": "code",
   "execution_count": null,
   "metadata": {},
   "outputs": [],
   "source": [
    "1    2    3     4     5     \n",
    "A    B    C     D\n",
    "!    @@   !!!   @@@@ \n",
    "A A   B    C     D     E\n",
    "! @    !!   @@@@  !!!!  @@@@@\n",
    "A A   B     C\n",
    "! @   !!    @@@"
   ]
  },
  {
   "cell_type": "code",
   "execution_count": null,
   "metadata": {},
   "outputs": [],
   "source": [
    "s=input()\n",
    "s=s.upper()\n",
    "ch='!'\n",
    "for i in range(len(s)) : \n",
    "        if ord(s[i]) !=32:\n",
    "            k=ord(s[i])-64\n",
    "            for j in range(k):\n",
    "                print(ch,end='')\n",
    "            if ch==\"!\":\n",
    "                ch=\"@\"\n",
    "            else:\n",
    "                ch='!'\n",
    "        else:\n",
    "            print()\n",
    "            ch='!'"
   ]
  },
  {
   "cell_type": "markdown",
   "metadata": {},
   "source": [
    "- Input:1A2B3C4D\n",
    "- output:ABBCCCDDDD\n",
    "    "
   ]
  },
  {
   "cell_type": "code",
   "execution_count": null,
   "metadata": {},
   "outputs": [],
   "source": [
    "s='1a2b3c4d'\n",
    "for i in range(0,len(s),2):\n",
    "    print(s[i+1]*int(s[i]),end='')\n",
    "\n"
   ]
  },
  {
   "cell_type": "markdown",
   "metadata": {},
   "source": [
    "# OOPS in Python\n",
    "- class: Collection of data members and Member funtions into single unit is called Class\n",
    "       - Data menbers--->Variables ,list, tuple, dict\n",
    "       - Member functions---> Methods and Constructors\n",
    "       - Class is logical entity it means when we create it does not have memory\n",
    "- object:\n",
    "- inheritance:"
   ]
  },
  {
   "cell_type": "code",
   "execution_count": null,
   "metadata": {},
   "outputs": [],
   "source": []
  },
  {
   "cell_type": "code",
   "execution_count": null,
   "metadata": {},
   "outputs": [],
   "source": []
  },
  {
   "cell_type": "code",
   "execution_count": null,
   "metadata": {},
   "outputs": [],
   "source": []
  },
  {
   "cell_type": "code",
   "execution_count": null,
   "metadata": {},
   "outputs": [],
   "source": []
  }
 ],
 "metadata": {
  "kernelspec": {
   "display_name": "Python 3",
   "language": "python",
   "name": "python3"
  },
  "language_info": {
   "codemirror_mode": {
    "name": "ipython",
    "version": 3
   },
   "file_extension": ".py",
   "mimetype": "text/x-python",
   "name": "python",
   "nbconvert_exporter": "python",
   "pygments_lexer": "ipython3",
   "version": "3.7.4"
  }
 },
 "nbformat": 4,
 "nbformat_minor": 2
}
