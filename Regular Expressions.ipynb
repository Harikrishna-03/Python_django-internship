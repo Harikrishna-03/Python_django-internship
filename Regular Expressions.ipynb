{
 "cells": [
  {
   "cell_type": "markdown",
   "metadata": {},
   "source": [
    "# Regular Expressions"
   ]
  },
  {
   "cell_type": "code",
   "execution_count": 6,
   "metadata": {},
   "outputs": [],
   "source": [
    "#regular expressions=import re\n"
   ]
  },
  {
   "cell_type": "code",
   "execution_count": 1,
   "metadata": {},
   "outputs": [
    {
     "name": "stdout",
     "output_type": "stream",
     "text": [
      "True\n",
      "False\n"
     ]
    }
   ],
   "source": [
    "#the two digit number\n",
    "import re\n",
    "def TwoDigitNumberMatch(n):\n",
    "    pattern=\"^[0-9]{2}$\"\n",
    "    n=str(n)\n",
    "    if re.match(pattern,n):\n",
    "        return True\n",
    "    return False\n",
    "print(TwoDigitNumberMatch(12))\n",
    "print(TwoDigitNumberMatch(123))\n"
   ]
  },
  {
   "cell_type": "code",
   "execution_count": 21,
   "metadata": {},
   "outputs": [
    {
     "data": {
      "text/plain": [
       "False"
      ]
     },
     "execution_count": 21,
     "metadata": {},
     "output_type": "execute_result"
    }
   ],
   "source": [
    "#username Matching\n",
    "#lower case and upper case\n",
    "#[a-z]\n",
    "#[A-Z]\n",
    "#length of username--Min 6\n",
    "def MatchUsername(s):\n",
    "    pattern='^[A-Z a-z 0-9 _]{6,15}$'\n",
    "    if re.match(pattern,s):\n",
    "        return True\n",
    "    return False\n",
    "MatchUsername('hari_krishna03')\n",
    "MatchUsername('hari')"
   ]
  },
  {
   "cell_type": "code",
   "execution_count": 8,
   "metadata": {},
   "outputs": [
    {
     "data": {
      "text/plain": [
       "True"
      ]
     },
     "execution_count": 8,
     "metadata": {},
     "output_type": "execute_result"
    }
   ],
   "source": [
    "import re\n",
    "def MatchRollNumber(n):\n",
    "    pattern=\"^[1][5][2][1][A a][0][1-9][0-9][0-9]$\"\n",
    "    if re.match(pattern,n):\n",
    "        return True\n",
    "    return False\n",
    "MatchRollNumber('1521A0501')"
   ]
  },
  {
   "cell_type": "code",
   "execution_count": 4,
   "metadata": {},
   "outputs": [
    {
     "name": "stdout",
     "output_type": "stream",
     "text": [
      "True\n",
      "False\n"
     ]
    }
   ],
   "source": [
    "import re\n",
    "def passwordValidate(n):\n",
    "   pattern=\"^[a-z A-Z 0-9 @ # !]{6,15}$\"\n",
    "   if re.match(pattern,n):\n",
    "       return True\n",
    "   return False\n",
    "print(passwordValidate('11203034A@'))\n",
    "print(passwordValidate('kishore$'))"
   ]
  },
  {
   "cell_type": "code",
   "execution_count": 24,
   "metadata": {},
   "outputs": [
    {
     "name": "stdout",
     "output_type": "stream",
     "text": [
      "True\n",
      "True\n",
      "False\n"
     ]
    }
   ],
   "source": [
    "import re\n",
    "def mobienumber(n):\n",
    "    pattern=\"^[6-9][0-9]{9}$\"\n",
    "    n=str(n)\n",
    "    if re.match(pattern,n):\n",
    "        return True\n",
    "    return False\n",
    "print(mobienumber(9949485898))\n",
    "print(mobienumber(9110516120))\n",
    "print(mobienumber(4184945656))\n",
    "    "
   ]
  },
  {
   "cell_type": "code",
   "execution_count": 8,
   "metadata": {},
   "outputs": [
    {
     "data": {
      "text/plain": [
       "True"
      ]
     },
     "execution_count": 8,
     "metadata": {},
     "output_type": "execute_result"
    }
   ],
   "source": [
    "import re\n",
    "def mobilenumber(n):\n",
    "    pattern=\"^[6-9][0-9]{9}$|^[+][9][1][6-9][0-9]{9}$|^[0][6-9][0-9]{9}$\"\n",
    "    if re.match(pattern,n):\n",
    "        return True\n",
    "    return False\n",
    "mobilenumber(\"+918184945656\")"
   ]
  },
  {
   "cell_type": "code",
   "execution_count": 10,
   "metadata": {},
   "outputs": [],
   "source": [
    "# to validate the EmailID\n",
    "# username @ Domainname .extension\n",
    "# hari     @ 15738      .com\n",
    "\n",
    "#user name-->[A-Z a-z][a-z A-Z 0-9 _ .]{5,15}\n",
    "#first character-Lower/upper character followed by characters and numbers with the min and maximum length of 5 to 15 characters\n",
    "\n",
    "#Domain-->[A-Z a-z]{3,10}\n",
    "#Domain names can be gmail,yahoo,outlook,hotmail etc;\n",
    "\n",
    "#extension-->[A-Z a-z]{2,3}\n",
    "#ex for extensions-com,in,org"
   ]
  },
  {
   "cell_type": "code",
   "execution_count": 21,
   "metadata": {},
   "outputs": [
    {
     "name": "stdout",
     "output_type": "stream",
     "text": [
      "True\n",
      "False\n"
     ]
    }
   ],
   "source": [
    "import re\n",
    "def EmailId(Id):\n",
    "    pattern=\"^[A-Z a-z][a-z A-Z 0-9 _ .]{5,15}[@][A-Z a-z]{3,10}[.][A-Z a-z]{2,3}$\"\n",
    "    if re.match(pattern,Id):\n",
    "        return True\n",
    "    return False\n",
    "print(EmailId('hari15738@gmail.com'))\n",
    "print(EmailId('Kollipara.sureshkumar1971@gmail.com'))"
   ]
  },
  {
   "cell_type": "code",
   "execution_count": null,
   "metadata": {},
   "outputs": [],
   "source": [
    "Package:a collection of modules(single python file.py)\n",
    "\n",
    "Modules: a single python file contains group of functions\n",
    "\n",
    "---->package-->sub package-->modules-->Functions-->statements\n"
   ]
  },
  {
   "cell_type": "code",
   "execution_count": 1,
   "metadata": {},
   "outputs": [
    {
     "data": {
      "text/plain": [
       "123"
      ]
     },
     "execution_count": 1,
     "metadata": {},
     "output_type": "execute_result"
    }
   ],
   "source": [
    "import math\n",
    "math.floor(123.432)"
   ]
  },
  {
   "cell_type": "code",
   "execution_count": 11,
   "metadata": {},
   "outputs": [
    {
     "data": {
      "text/plain": [
       "479001600"
      ]
     },
     "execution_count": 11,
     "metadata": {},
     "output_type": "execute_result"
    }
   ],
   "source": [
    "from math import factorial as fact\n",
    "fact(12)"
   ]
  },
  {
   "cell_type": "code",
   "execution_count": 1,
   "metadata": {},
   "outputs": [
    {
     "data": {
      "text/plain": [
       "3"
      ]
     },
     "execution_count": 1,
     "metadata": {},
     "output_type": "execute_result"
    }
   ],
   "source": [
    "from math import gcd as gcd\n",
    "gcd(12,15)"
   ]
  },
  {
   "cell_type": "code",
   "execution_count": 4,
   "metadata": {},
   "outputs": [
    {
     "name": "stdout",
     "output_type": "stream",
     "text": [
      "24 8 55 57 12 37 7 77 66 30 "
     ]
    }
   ],
   "source": [
    "import random\n",
    "def generate(n,lb,ub):\n",
    "    for i in range(0,n):\n",
    "        print(random.randint(lb,ub),end=' ')\n",
    "    return\n",
    "generate(10,0,100)"
   ]
  },
  {
   "cell_type": "code",
   "execution_count": 8,
   "metadata": {},
   "outputs": [
    {
     "name": "stdout",
     "output_type": "stream",
     "text": [
      "try agian\n"
     ]
    }
   ],
   "source": [
    "from random import randint as rdint\n",
    "def generateNumber(n,lb,ub):\n",
    "    li=[]\n",
    "    for i in range(0,n):\n",
    "        li.append(rdint(lb,ub))\n",
    "    return li\n",
    "def check(n):\n",
    "    li=generateNumber(20,100,999)\n",
    "    if n in li:\n",
    "        print(\"congrats\")\n",
    "    else:\n",
    "        print(\"try agian\")\n",
    "    return\n",
    "check(309)"
   ]
  },
  {
   "cell_type": "code",
   "execution_count": 11,
   "metadata": {},
   "outputs": [
    {
     "data": {
      "text/plain": [
       "[863,\n",
       " 483,\n",
       " 872,\n",
       " 794,\n",
       " 315,\n",
       " 531,\n",
       " 736,\n",
       " 420,\n",
       " 181,\n",
       " 310,\n",
       " 819,\n",
       " 555,\n",
       " 789,\n",
       " 267,\n",
       " 792,\n",
       " 284,\n",
       " 743,\n",
       " 441,\n",
       " 305,\n",
       " 861]"
      ]
     },
     "execution_count": 11,
     "metadata": {},
     "output_type": "execute_result"
    }
   ],
   "source": [
    "from random import randint as rdint\n",
    "def generateNumber(n,lb,ub):\n",
    "    li=[]\n",
    "    for i in range(0,n):\n",
    "        li.append(rdint(lb,ub))\n",
    "    return li\n",
    "generateNumber(20,100,999)"
   ]
  },
  {
   "cell_type": "code",
   "execution_count": null,
   "metadata": {},
   "outputs": [],
   "source": []
  },
  {
   "cell_type": "code",
   "execution_count": null,
   "metadata": {},
   "outputs": [],
   "source": []
  }
 ],
 "metadata": {
  "kernelspec": {
   "display_name": "Python 3",
   "language": "python",
   "name": "python3"
  },
  "language_info": {
   "codemirror_mode": {
    "name": "ipython",
    "version": 3
   },
   "file_extension": ".py",
   "mimetype": "text/x-python",
   "name": "python",
   "nbconvert_exporter": "python",
   "pygments_lexer": "ipython3",
   "version": "3.7.4"
  }
 },
 "nbformat": 4,
 "nbformat_minor": 2
}
