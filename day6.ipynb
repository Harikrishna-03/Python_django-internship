{
 "cells": [
  {
   "cell_type": "code",
   "execution_count": 2,
   "metadata": {},
   "outputs": [
    {
     "name": "stdout",
     "output_type": "stream",
     "text": [
      "even sum: 46\n",
      "odd sum: 20\n"
     ]
    }
   ],
   "source": [
    "def even_sum(x):\n",
    "   return sum(x)\n",
    "def odd_sum(y):\n",
    "   return sum(y)\n",
    "list1=[4,6,12,7,8,9,1,2,3,14]\n",
    "l1=[]\n",
    "l2=[]\n",
    "for i in list1:\n",
    "   if i%2==0:\n",
    "       l1.append(i)\n",
    "   else:\n",
    "       l2.append(i)\n",
    "x=even_sum(l1)\n",
    "y=odd_sum(l2)\n",
    "print(\"even sum:\",x)\n",
    "print(\"odd sum:\",y)\n",
    "        "
   ]
  },
  {
   "cell_type": "code",
   "execution_count": 5,
   "metadata": {},
   "outputs": [
    {
     "name": "stdout",
     "output_type": "stream",
     "text": [
      "enter the range:10\n",
      "1\n",
      "3\n",
      "6\n",
      "10\n",
      "15\n",
      "21\n",
      "28\n",
      "36\n",
      "45\n"
     ]
    }
   ],
   "source": [
    "n=int(input(\"enter the range:\"))\n",
    "a=0\n",
    "b=1\n",
    "i=2\n",
    "sum=0\n",
    "while i<=n:\n",
    "   sum=a+b\n",
    "   a=sum\n",
    "   b=i\n",
    "   print(sum)\n",
    "   i+=1"
   ]
  },
  {
   "cell_type": "code",
   "execution_count": 1,
   "metadata": {},
   "outputs": [
    {
     "name": "stdout",
     "output_type": "stream",
     "text": [
      "enter a number4\n",
      "amstrong\n"
     ]
    }
   ],
   "source": [
    "num=int(input(\"enter a number\"))\n",
    "temp=num\n",
    "length=len(str(num))\n",
    "arm=0\n",
    "while num>0:\n",
    "    rem=num%10\n",
    "    arm=arm+(rem**length)\n",
    "    num=num//10\n",
    "if temp==arm:\n",
    "    print(\"amstrong\")\n",
    "else:\n",
    "    print(\"not an amstrong\")"
   ]
  },
  {
   "cell_type": "markdown",
   "metadata": {},
   "source": [
    " "
   ]
  },
  {
   "cell_type": "code",
   "execution_count": null,
   "metadata": {},
   "outputs": [],
   "source": []
  },
  {
   "cell_type": "code",
   "execution_count": null,
   "metadata": {},
   "outputs": [],
   "source": []
  }
 ],
 "metadata": {
  "kernelspec": {
   "display_name": "Python 3",
   "language": "python",
   "name": "python3"
  },
  "language_info": {
   "codemirror_mode": {
    "name": "ipython",
    "version": 3
   },
   "file_extension": ".py",
   "mimetype": "text/x-python",
   "name": "python",
   "nbconvert_exporter": "python",
   "pygments_lexer": "ipython3",
   "version": "3.7.4"
  }
 },
 "nbformat": 4,
 "nbformat_minor": 2
}
