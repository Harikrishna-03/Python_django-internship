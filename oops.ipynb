{
 "cells": [
  {
   "cell_type": "code",
   "execution_count": 5,
   "metadata": {},
   "outputs": [],
   "source": [
    "import os\n",
    "os.mkdir('E:\\Filehandling')"
   ]
  },
  {
   "cell_type": "code",
   "execution_count": 18,
   "metadata": {},
   "outputs": [],
   "source": [
    "with open(\"E:/Filehandling/File.txt\",\"w\",512) as f:\n",
    "    f.write(\"This is my first line of code\")\n",
    "    f.write(\"\\nThis is my second line of code with the first item in my list\")\n",
    "    f.write(\"\\nAnd this is my last line of code\")\n",
    "    f.write(\"\\nthis is my last line in the file\")"
   ]
  },
  {
   "cell_type": "code",
   "execution_count": null,
   "metadata": {},
   "outputs": [],
   "source": [
    "with open()"
   ]
  },
  {
   "cell_type": "code",
   "execution_count": 1,
   "metadata": {},
   "outputs": [
    {
     "name": "stdout",
     "output_type": "stream",
     "text": [
      "pYTHONpROGRmminG \n"
     ]
    }
   ],
   "source": [
    "str1=\"PythonProgrMMINg \"\n",
    "str2=\"\"\n",
    "for i in str1:\n",
    "    if i.isupper()==True:\n",
    "        str2=str2+i.lower()\n",
    "    else:\n",
    "        str2=str2+i.upper()\n",
    "print(str2)"
   ]
  },
  {
   "cell_type": "code",
   "execution_count": 8,
   "metadata": {},
   "outputs": [
    {
     "name": "stdout",
     "output_type": "stream",
     "text": [
      "pYTHONprograMMING\n"
     ]
    }
   ],
   "source": [
    "str1=\"PythonPROGRAmming\"\n",
    "str2=\"\"\n",
    "for i in str1:\n",
    "    if i.isupper()==True:\n",
    "        str2=str2+i.lower()\n",
    "    else:\n",
    "        str2=str2+i.upper()\n",
    "print(str2)"
   ]
  },
  {
   "cell_type": "code",
   "execution_count": null,
   "metadata": {},
   "outputs": [],
   "source": []
  }
 ],
 "metadata": {
  "kernelspec": {
   "display_name": "Python 3",
   "language": "python",
   "name": "python3"
  },
  "language_info": {
   "codemirror_mode": {
    "name": "ipython",
    "version": 3
   },
   "file_extension": ".py",
   "mimetype": "text/x-python",
   "name": "python",
   "nbconvert_exporter": "python",
   "pygments_lexer": "ipython3",
   "version": "3.7.4"
  }
 },
 "nbformat": 4,
 "nbformat_minor": 2
}
