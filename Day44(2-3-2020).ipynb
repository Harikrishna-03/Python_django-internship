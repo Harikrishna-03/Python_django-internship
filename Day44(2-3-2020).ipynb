{
 "cells": [
  {
   "cell_type": "code",
   "execution_count": 1,
   "metadata": {},
   "outputs": [],
   "source": [
    "userSays = ['what about fee structure?',\n",
    " 'what is the fee for B.Tech program?',\n",
    " 'what is the fee for UG?',\n",
    " 'what  is the fee for specific branch?',\n",
    " 'Fee details for B.Tech?',\n",
    " 'what is the fee applicable after concession?',\n",
    " 'what is the fee structure if my EAMCET rank is below 3000?',\n",
    " 'fee details if my plus 2 marks are above 965?',\n",
    " 'what is the fee for core branches?',\n",
    " 'what is the fee structure for CSE after concession?',\n",
    " 'Fee applicable for CSE if I score below 3000 in eamcet?',\n",
    " 'Fee details for ECE if my eamcet rank is below 3000?',\n",
    " 'what is the fee structure for ECE after concession?',\n",
    " 'Fee details for IT branch if my eamcet rank is below 3000?',\n",
    " 'what is the fee structure for IT branch after concession?',\n",
    " 'Fee details for mechanical if my eamcet rank is below 3000?',\n",
    " 'what is the fee structure for mechanical after concession?',\n",
    " 'what is the fee per annum?']"
   ]
  },
  {
   "cell_type": "code",
   "execution_count": 2,
   "metadata": {},
   "outputs": [],
   "source": [
    "from numpy import nan\n",
    "responses = ['CSE  ,ECE, IT, Mechanical   --90,000/-',\n",
    " 'The fee applicable for all core branches is 90,000',\n",
    " 'The fee per annum is 90,000',\n",
    " 'The fee should be paid after concession is 90,000',\n",
    " nan,\n",
    " nan,\n",
    " nan,\n",
    " nan,\n",
    " nan,\n",
    " nan,\n",
    " nan,\n",
    " nan,\n",
    " nan,\n",
    " nan,\n",
    " nan,\n",
    " nan,\n",
    " nan,\n",
    " nan]"
   ]
  },
  {
   "cell_type": "markdown",
   "metadata": {},
   "source": [
    "#### read the content of the file Intenttemplate.json and convert it into a dictionary with name content¶"
   ]
  },
  {
   "cell_type": "code",
   "execution_count": 15,
   "metadata": {},
   "outputs": [
    {
     "name": "stdout",
     "output_type": "stream",
     "text": [
      "<class 'dict'>\n"
     ]
    }
   ],
   "source": [
    "import json\n",
    "f = open('f1.json','r')\n",
    "n = f.read()\n",
    "a = json.loads(n)\n",
    "print(type(a))"
   ]
  },
  {
   "cell_type": "markdown",
   "metadata": {},
   "source": [
    "#### Add the key with name with value Fee to the dictionary content\n",
    "#### name of the Intent\n",
    "    \"name\": \"Fee\""
   ]
  },
  {
   "cell_type": "code",
   "execution_count": null,
   "metadata": {},
   "outputs": [],
   "source": []
  },
  {
   "cell_type": "code",
   "execution_count": null,
   "metadata": {},
   "outputs": [],
   "source": []
  },
  {
   "cell_type": "markdown",
   "metadata": {},
   "source": [
    "#### Responses for the Intent Format"
   ]
  },
  {
   "cell_type": "code",
   "execution_count": null,
   "metadata": {},
   "outputs": [],
   "source": [
    "\"responses\":[\n",
    "    {\n",
    "      \"resetContexts\": false,\n",
    "      \"affectedContexts\": [],\n",
    "      \"parameters\": [],\n",
    "      \"messages\": [\n",
    "        {\n",
    "          \"type\": 0,\n",
    "          \"lang\": \"en\",\n",
    "          \"condition\": \"\",\n",
    "          \"speech\": [\"ANSWER_1\",\"ANSWER_2\",\"ANSWER_3\",\"ANSWER_4\"]\n",
    "        }\n",
    "      ],\n",
    "      \"defaultResponsePlatforms\": {},\n",
    "      \"speech\": []\n",
    "    }\n",
    "  ]"
   ]
  },
  {
   "cell_type": "markdown",
   "metadata": {},
   "source": [
    "#### From the list responses get the elements which are not nan and store them in a list proper_responses"
   ]
  },
  {
   "cell_type": "code",
   "execution_count": null,
   "metadata": {},
   "outputs": [],
   "source": []
  },
  {
   "cell_type": "code",
   "execution_count": null,
   "metadata": {},
   "outputs": [],
   "source": [
    "Replace the values in\n",
    "\n",
    "\"speech\": [\"ANSWER_1\",\"ANSWER_2\",\"ANSWER_3\",\"ANSWER_4\"] \n",
    "to proper_responses list"
   ]
  },
  {
   "cell_type": "code",
   "execution_count": null,
   "metadata": {},
   "outputs": [],
   "source": []
  },
  {
   "cell_type": "markdown",
   "metadata": {},
   "source": [
    "#### Add the key \"responses\" with modilfied values of speech to content"
   ]
  },
  {
   "cell_type": "code",
   "execution_count": null,
   "metadata": {},
   "outputs": [],
   "source": []
  },
  {
   "cell_type": "markdown",
   "metadata": {},
   "source": [
    "#### Format forUserSays for the intent"
   ]
  },
  {
   "cell_type": "code",
   "execution_count": null,
   "metadata": {},
   "outputs": [],
   "source": [
    "\"userSays\":[\n",
    "  {\n",
    "\n",
    "    \"data\": [\n",
    "      {\n",
    "        \"text\": \"Question_1\",\n",
    "        \"userDefined\": false\n",
    "      }\n",
    "    ],\n",
    "    \"isTemplate\": false,\n",
    "    \"count\": 0,\n",
    "    \"updated\": 0\n",
    "  },\n",
    "  {\n",
    "\n",
    "    \"data\": [\n",
    "      {\n",
    "        \"text\": \"Question_2\",\n",
    "        \"userDefined\": false\n",
    "      }\n",
    "    ],\n",
    "    \"isTemplate\": false,\n",
    "    \"count\": 0,\n",
    "    \"updated\": 0\n",
    "  },\n",
    "  {\n",
    "\n",
    "    \"data\": [\n",
    "      {\n",
    "        \"text\": \"Question_3?\",\n",
    "        \"userDefined\": false\n",
    "      }\n",
    "    ],\n",
    "    \"isTemplate\": false,\n",
    "    \"count\": 0,\n",
    "    \"updated\": 0\n",
    "    }\n",
    " ]\n",
    "Add key \"userSays\" in the dictionary content with the questions in the userSays lists"
   ]
  },
  {
   "cell_type": "markdown",
   "metadata": {},
   "source": [
    "#### Convert the dictionary content to a string"
   ]
  },
  {
   "cell_type": "code",
   "execution_count": null,
   "metadata": {},
   "outputs": [],
   "source": []
  },
  {
   "cell_type": "markdown",
   "metadata": {},
   "source": [
    "#### Create a json file with name fee.json and write the content value in int"
   ]
  },
  {
   "cell_type": "code",
   "execution_count": null,
   "metadata": {},
   "outputs": [],
   "source": []
  }
 ],
 "metadata": {
  "kernelspec": {
   "display_name": "Python 3",
   "language": "python",
   "name": "python3"
  },
  "language_info": {
   "codemirror_mode": {
    "name": "ipython",
    "version": 3
   },
   "file_extension": ".py",
   "mimetype": "text/x-python",
   "name": "python",
   "nbconvert_exporter": "python",
   "pygments_lexer": "ipython3",
   "version": "3.7.4"
  }
 },
 "nbformat": 4,
 "nbformat_minor": 2
}
