{
 "cells": [
  {
   "cell_type": "markdown",
   "metadata": {},
   "source": [
    "# Version Controlling system"
   ]
  },
  {
   "cell_type": "code",
   "execution_count": null,
   "metadata": {},
   "outputs": [],
   "source": [
    "Version control system---> is a system that records changes to a file or set of files over time so that you can \n",
    "recall specific versions later                           \n",
    "Ex: GIT"
   ]
  },
  {
   "cell_type": "markdown",
   "metadata": {},
   "source": [
    "# Basic Linux Commands"
   ]
  },
  {
   "cell_type": "code",
   "execution_count": null,
   "metadata": {},
   "outputs": [],
   "source": [
    "#Basic Linux commands\n",
    "\n",
    "#1.Pwd-->present working directory\n",
    "#2.ls     -->list of files and folders\n",
    "#3.clear-->clears the entire screen\n",
    "#4.cd .. --> change directory one step back\n",
    "#5.cd directory name-->changes the directory to original location\n",
    "#6.cd desktop-->change ths directory\n",
    "#.cd     --> where the directory goes to parent folder\n",
    "#to create a specific folder\n",
    "#8.mkdir--> to create a folder\n",
    "#9.touch gedit cat vi-->\n",
    " #   touch-->Create a file\n",
    "  #  gedit-->Edit the file\n",
    "   # cat   -->Read the file data\n",
    "    #vi    -->Write and Read\n",
    "   "
   ]
  },
  {
   "cell_type": "code",
   "execution_count": null,
   "metadata": {},
   "outputs": [],
   "source": []
  }
 ],
 "metadata": {
  "kernelspec": {
   "display_name": "Python 3",
   "language": "python",
   "name": "python3"
  },
  "language_info": {
   "codemirror_mode": {
    "name": "ipython",
    "version": 3
   },
   "file_extension": ".py",
   "mimetype": "text/x-python",
   "name": "python",
   "nbconvert_exporter": "python",
   "pygments_lexer": "ipython3",
   "version": "3.7.4"
  }
 },
 "nbformat": 4,
 "nbformat_minor": 2
}
