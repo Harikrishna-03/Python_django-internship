{
 "cells": [
  {
   "cell_type": "markdown",
   "metadata": {},
   "source": [
    "# File Handling\n",
    "- create file\n",
    "- write data into file\n",
    "- read data from the file\n",
    "- "
   ]
  },
  {
   "cell_type": "code",
   "execution_count": 3,
   "metadata": {},
   "outputs": [
    {
     "name": "stdout",
     "output_type": "stream",
     "text": [
      "C:\\Users\\User\\Downloads\n"
     ]
    }
   ],
   "source": [
    "cd ..\n"
   ]
  },
  {
   "cell_type": "code",
   "execution_count": 5,
   "metadata": {},
   "outputs": [
    {
     "data": {
      "text/plain": [
       "'C:\\\\Users\\\\User\\\\Downloads'"
      ]
     },
     "execution_count": 5,
     "metadata": {},
     "output_type": "execute_result"
    }
   ],
   "source": [
    "pwd\n"
   ]
  },
  {
   "cell_type": "code",
   "execution_count": 8,
   "metadata": {},
   "outputs": [
    {
     "data": {
      "text/plain": [
       "'data is succesfully stored in file'"
      ]
     },
     "execution_count": 8,
     "metadata": {},
     "output_type": "execute_result"
    }
   ],
   "source": [
    "def createfile(filename):\n",
    "    f=open(filename,'w')\n",
    "    for i in range(776):\n",
    "        f.write('\\n hari krishna \\n krishna \\n hari')\n",
    "    return \"data is succesfully stored in file\"\n",
    "createfile('dsps.txt')\n"
   ]
  },
  {
   "cell_type": "code",
   "execution_count": 4,
   "metadata": {
    "scrolled": true
   },
   "outputs": [
    {
     "ename": "SyntaxError",
     "evalue": "invalid syntax (<string>, line 1)",
     "output_type": "error",
     "traceback": [
      "Traceback \u001b[1;36m(most recent call last)\u001b[0m:\n",
      "  File \u001b[0;32m\"C:\\Users\\User\\Anaconda3\\lib\\site-packages\\IPython\\core\\interactiveshell.py\"\u001b[0m, line \u001b[0;32m3326\u001b[0m, in \u001b[0;35mrun_code\u001b[0m\n    exec(code_obj, self.user_global_ns, self.user_ns)\n",
      "  File \u001b[0;32m\"<ipython-input-4-549f594d9b5a>\"\u001b[0m, line \u001b[0;32m9\u001b[0m, in \u001b[0;35m<module>\u001b[0m\n    studentData('placements.txt')\n",
      "\u001b[1;36m  File \u001b[1;32m\"<ipython-input-4-549f594d9b5a>\"\u001b[1;36m, line \u001b[1;32m5\u001b[1;36m, in \u001b[1;35mstudentData\u001b[1;36m\u001b[0m\n\u001b[1;33m    a=eval(x)\u001b[0m\n",
      "\u001b[1;36m  File \u001b[1;32m\"<string>\"\u001b[1;36m, line \u001b[1;32m1\u001b[0m\n\u001b[1;33m    [{'student_id':4420,'placement_id':1'placement__company_name':'promizeit','placement__date_of_interview':datetime.date(2020,2,11),'placement__job_description':'test','placement__eligibility_criteria':'test'},'student_id':4420,'placement_id':2,'placement__company_name':'Test 2', 'placement__date_of_interview':datetime.date(2020,2,27),'placement__job_description':'Test2','placement__eligibility_criteria':'Test2'}]\u001b[0m\n\u001b[1;37m                                                                ^\u001b[0m\n\u001b[1;31mSyntaxError\u001b[0m\u001b[1;31m:\u001b[0m invalid syntax\n"
     ]
    }
   ],
   "source": [
    "import datetime\n",
    "def studentData(file):\n",
    "    f=open(file,'r')\n",
    "    x=f.read()\n",
    "    a=eval(x)\n",
    "    for i in a:\n",
    "        d = dict(i)\n",
    "    print(d)\n",
    "studentData('placements.txt')"
   ]
  },
  {
   "cell_type": "code",
   "execution_count": 24,
   "metadata": {},
   "outputs": [
    {
     "name": "stdout",
     "output_type": "stream",
     "text": [
      "Input total no. of elements in the lists:6\n",
      "Capture input for the keys:\n",
      "Input item1:Student1\n",
      "Input item2:placement_id\n",
      "Input item3:Company_name\n",
      "Input item4:Date_of_interview\n",
      "Input item5:Job Description\n",
      "Input item6:Eligibility Crieteria\n",
      "Input item1:1210415724\n",
      "Input item2:00987\n",
      "Input item3:Promize it services\n",
      "Input item4:Software development\n",
      "Input item5:minimum 70% of aggregriate\n",
      "Input item6:march112020\n",
      "{'Student1': '1210415724', 'placement_id': '00987', 'Company_name': 'Promize it services', 'Date_of_interview': 'Software development', 'Job Description': 'minimum 70% of aggregriate', 'Eligibility Crieteria': 'march112020'}\n"
     ]
    }
   ],
   "source": [
    "listOfkeys = []\n",
    "listOfvalues = []\n",
    "\n",
    "count = int(input(\"Input total no. of elements in the lists:\"))\n",
    "for item in range(0, count):\n",
    "    elt = input(\"Input item\" + str(item + 1) + \":\")\n",
    "    listOfkeys.append(elt)\n",
    "\n",
    "\n",
    "for item in range(0, count):\n",
    "    elt = input(\"Input item\" + str(item + 1) + \":\")\n",
    "    listOfvalues.append(elt)\n",
    "\n",
    "di = dict(zip(listOfkeys, listOfvalues))\n",
    "print(di)"
   ]
  },
  {
   "cell_type": "code",
   "execution_count": 6,
   "metadata": {},
   "outputs": [
    {
     "data": {
      "text/plain": [
       "'C:\\\\Users\\\\User\\\\Downloads'"
      ]
     },
     "execution_count": 6,
     "metadata": {},
     "output_type": "execute_result"
    }
   ],
   "source": [
    "pwd"
   ]
  },
  {
   "cell_type": "code",
   "execution_count": 3,
   "metadata": {},
   "outputs": [
    {
     "name": "stdout",
     "output_type": "stream",
     "text": [
      "C:\\Users\\User\\Downloads\n"
     ]
    }
   ],
   "source": [
    "cd .."
   ]
  },
  {
   "cell_type": "code",
   "execution_count": null,
   "metadata": {},
   "outputs": [],
   "source": []
  },
  {
   "cell_type": "code",
   "execution_count": null,
   "metadata": {},
   "outputs": [],
   "source": []
  }
 ],
 "metadata": {
  "kernelspec": {
   "display_name": "Python 3",
   "language": "python",
   "name": "python3"
  },
  "language_info": {
   "codemirror_mode": {
    "name": "ipython",
    "version": 3
   },
   "file_extension": ".py",
   "mimetype": "text/x-python",
   "name": "python",
   "nbconvert_exporter": "python",
   "pygments_lexer": "ipython3",
   "version": "3.7.4"
  }
 },
 "nbformat": 4,
 "nbformat_minor": 2
}
