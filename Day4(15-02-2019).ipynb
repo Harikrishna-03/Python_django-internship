{
 "cells": [
  {
   "cell_type": "markdown",
   "metadata": {},
   "source": [
    "# print digits of a given number"
   ]
  },
  {
   "cell_type": "code",
   "execution_count": 1,
   "metadata": {},
   "outputs": [
    {
     "name": "stdout",
     "output_type": "stream",
     "text": [
      "Enter a number with multiple digit: 8184945656\n",
      "656549481810\n"
     ]
    }
   ],
   "source": [
    "num = int(input(\"Enter a number with multiple digit: \"))\n",
    "n=0\n",
    "while num>0:\n",
    "    a = num%10\n",
    "    num = num - a\n",
    "    num = num/10\n",
    "    print(int(a),end=\"\")\n",
    "    n=n+1 \n",
    "print(n)"
   ]
  },
  {
   "cell_type": "markdown",
   "metadata": {},
   "source": [
    "# Read the input as string and Output will followed   "
   ]
  },
  {
   "cell_type": "code",
   "execution_count": 19,
   "metadata": {},
   "outputs": [
    {
     "name": "stdout",
     "output_type": "stream",
     "text": [
      "python easy "
     ]
    }
   ],
   "source": [
    "a=\"Learn Python Programming EASy\"\n",
    "a=a.split()\n",
    "for word in a:\n",
    "    if len(word)%2==0:\n",
    "        print(word.lower(),end=' ')"
   ]
  },
  {
   "cell_type": "markdown",
   "metadata": {},
   "source": [
    "# Read the string as input and Print the output following the manner#"
   ]
  },
  {
   "cell_type": "code",
   "execution_count": 28,
   "metadata": {},
   "outputs": [
    {
     "name": "stdout",
     "output_type": "stream",
     "text": [
      "pYTHONpROGRmminG \n"
     ]
    }
   ],
   "source": [
    "str1=\"PythonProgrMMINg \"\n",
    "str2=\"\"\n",
    "for i in str1:\n",
    "    if i.isupper()==True:\n",
    "        str2=str2+i.lower()\n",
    "    else:\n",
    "        str2=str2+i.upper()\n",
    "print(str2)"
   ]
  },
  {
   "cell_type": "markdown",
   "metadata": {},
   "source": [
    "# Read the input as string and Print the Output as Only even digit sum"
   ]
  },
  {
   "cell_type": "code",
   "execution_count": 1,
   "metadata": {},
   "outputs": [
    {
     "name": "stdout",
     "output_type": "stream",
     "text": [
      "enter the sting:iyi\n",
      "0 (  )\n"
     ]
    }
   ],
   "source": [
    "\n",
    "#Example #1:\n",
    "#Input : Applc18iation89\n",
    "#Output : 16 (8+8)\n",
    "n=input(\"enter the sting:\")\n",
    "x=\"ABCDEFGHIJKLMNOPQRSTUVWXYZabcdefghijklmnopqrstuvwxyz\"\n",
    "sum=0\n",
    "digit=[]\n",
    "for i in n:\n",
    "   if i in x:\n",
    "       pass\n",
    "   else:\n",
    "       y=int(i)\n",
    "       if y%2==0:\n",
    "           sum=sum+y\n",
    "           digit.append(str(y))                  \n",
    "z=\"+\".join(digit)\n",
    "print(sum,\"(\",z,\")\")"
   ]
  },
  {
   "cell_type": "markdown",
   "metadata": {},
   "source": [
    "# Functions"
   ]
  },
  {
   "cell_type": "code",
   "execution_count": 2,
   "metadata": {},
   "outputs": [
    {
     "name": "stdout",
     "output_type": "stream",
     "text": [
      "38\n"
     ]
    }
   ],
   "source": [
    "def addition(*b):\n",
    "    y=0\n",
    "    for num in b:\n",
    "        y+=num\n",
    "    print(y)\n",
    "addition(1,3,4,5,6,6,7,6)"
   ]
  },
  {
   "cell_type": "markdown",
   "metadata": {},
   "source": [
    "# Accept name as input and search for that name in the master list if the name is available, print yes         or print no"
   ]
  },
  {
   "cell_type": "code",
   "execution_count": null,
   "metadata": {},
   "outputs": [],
   "source": [
    "# master_list=[\"hari\",\"krishna\",\"suraj\",\"pranav\",\"rohan\"]\n",
    "def find(name):\n",
    "    if name in master_list:\n",
    "        print(\"true\")\n",
    "    else:\n",
    "        print(\"no\")\n",
    "name=input(\"enter a name:\")    \n",
    "find(name)\n"
   ]
  },
  {
   "cell_type": "markdown",
   "metadata": {},
   "source": [
    "# Print the count of the students whose age is >20\n"
   ]
  },
  {
   "cell_type": "code",
   "execution_count": 2,
   "metadata": {},
   "outputs": [
    {
     "name": "stdout",
     "output_type": "stream",
     "text": [
      "3\n"
     ]
    }
   ],
   "source": [
    "def count_age(x):\n",
    "   list=[]\n",
    "   for i in x.values():\n",
    "       if i>20:\n",
    "           list.append(i)\n",
    "       else:\n",
    "           pass\n",
    "   print(len(list))      \n",
    "students={\"hari\":12,\"krishna\":20,\"suraj\":19,\"pranav\":24,\"rohan\":32,\"ajay\":55}\n",
    "count_age(students)\n",
    "    "
   ]
  },
  {
   "cell_type": "markdown",
   "metadata": {},
   "source": [
    "# Read the Input as number and print the output as true or false. If the input number is prime then        print true otherwise print fasleExample 1\n",
    "\n"
   ]
  },
  {
   "cell_type": "code",
   "execution_count": 3,
   "metadata": {},
   "outputs": [
    {
     "name": "stdout",
     "output_type": "stream",
     "text": [
      "enter the value:11\n",
      "True\n"
     ]
    }
   ],
   "source": [
    "#Input : 11\n",
    "#Output : True\n",
    "def prime(n):\n",
    "   x=0\n",
    "   for i in range(1,n+1):\n",
    "       if n%i==0:\n",
    "           x+=1\n",
    "   if x==2:\n",
    "       print(\"True\")\n",
    "   else:\n",
    "       print(\"False\")        \n",
    "n=int(input(\"enter the value:\"))\n",
    "prime(n)"
   ]
  },
  {
   "cell_type": "markdown",
   "metadata": {},
   "source": [
    "# 3. Read the input as number N and print the output as prime number count between 1 to N"
   ]
  },
  {
   "cell_type": "code",
   "execution_count": 1,
   "metadata": {},
   "outputs": [
    {
     "name": "stdout",
     "output_type": "stream",
     "text": [
      "Enter upper range: 24\n",
      "2,3,5,7,11,13,17,19,23,count 9\n"
     ]
    }
   ],
   "source": [
    "upto = int(input(\"Enter upper range: \"))  \n",
    "cnt = 0\n",
    "for num in range(1,upto + 1):\n",
    "   \n",
    "   if num > 1:  \n",
    "       for i in range(2,num):  \n",
    "           if (num % i) == 0:  \n",
    "               break\n",
    "               \n",
    "       else:\n",
    "           print(num,end=\",\")\n",
    "           cnt+=1\n",
    "print(\"count\", cnt)"
   ]
  },
  {
   "cell_type": "markdown",
   "metadata": {},
   "source": [
    "# Read the input as two limits and print the output as palindrome count between the two limits"
   ]
  },
  {
   "cell_type": "code",
   "execution_count": 3,
   "metadata": {},
   "outputs": [
    {
     "name": "stdout",
     "output_type": "stream",
     "text": [
      "1\n",
      "2\n",
      "3\n",
      "4\n",
      "5\n",
      "6\n",
      "7\n",
      "8\n",
      "9\n",
      "11\n",
      "22\n",
      "33\n",
      "44\n",
      "55\n",
      "66\n",
      "77\n",
      "88\n",
      "99\n"
     ]
    }
   ],
   "source": [
    "for num in range(1,101):\n",
    "   temp=num\n",
    "   reverse=0\n",
    "   while temp>0:\n",
    "       reminder=temp%10\n",
    "       reverse=(reverse*10)+reminder\n",
    "       temp=temp//10\n",
    "   if num==reverse:\n",
    "       print(num)\n",
    "\n"
   ]
  },
  {
   "cell_type": "code",
   "execution_count": null,
   "metadata": {},
   "outputs": [],
   "source": []
  }
 ],
 "metadata": {
  "kernelspec": {
   "display_name": "Python 3",
   "language": "python",
   "name": "python3"
  },
  "language_info": {
   "codemirror_mode": {
    "name": "ipython",
    "version": 3
   },
   "file_extension": ".py",
   "mimetype": "text/x-python",
   "name": "python",
   "nbconvert_exporter": "python",
   "pygments_lexer": "ipython3",
   "version": "3.7.4"
  }
 },
 "nbformat": 4,
 "nbformat_minor": 2
}
